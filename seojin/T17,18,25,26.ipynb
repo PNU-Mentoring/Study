{
 "cells": [
  {
   "cell_type": "markdown",
   "metadata": {},
   "source": [
    "### T1-17. 시계열 데이터1"
   ]
  },
  {
   "cell_type": "code",
   "execution_count": 10,
   "metadata": {},
   "outputs": [
    {
     "data": {
      "text/plain": [
       "1477685.0"
      ]
     },
     "execution_count": 10,
     "metadata": {},
     "output_type": "execute_result"
    }
   ],
   "source": [
    "import pandas as pd\n",
    "import numpy as np\n",
    "\n",
    "df = pd.read_csv('C:\\\\Users\\\\lsj02\\\\OneDrive\\\\바탕 화면\\\\PNU\\\\멘토링\\\\Study\\\\seojin\\\\bigdatacertificationkr\\\\basic2.csv')\n",
    "df['Date'] = pd.to_datetime(df['Date'])\n",
    "df[(df['Date'].dt.year == 2022) & (df['Date'].dt.month == 5)]['Sales'].median()"
   ]
  },
  {
   "cell_type": "markdown",
   "metadata": {},
   "source": [
    "### T1-18. 시계열 데이터2"
   ]
  },
  {
   "cell_type": "code",
   "execution_count": 26,
   "metadata": {},
   "outputs": [
    {
     "data": {
      "text/plain": [
       "3010339.1"
      ]
     },
     "execution_count": 26,
     "metadata": {},
     "output_type": "execute_result"
    }
   ],
   "source": [
    "import pandas as pd\n",
    "import numpy as np\n",
    "\n",
    "df = pd.read_csv('C:\\\\Users\\\\lsj02\\\\OneDrive\\\\바탕 화면\\\\PNU\\\\멘토링\\\\Study\\\\seojin\\\\bigdatacertificationkr\\\\basic2.csv')\n",
    "df['Date'] = pd.to_datetime(df['Date'])\n",
    "df = df[(df['Date'].dt.year == 2022) & (df['Date'].dt.month == 5)]\n",
    "\n",
    "weekday = df[df['Date'].dt.day_of_week < 5]\n",
    "weekend = df[df['Date'].dt.day_of_week > 4]\n",
    "round(abs(weekday['Sales'].mean() - weekend['Sales'].mean()), 2)"
   ]
  },
  {
   "cell_type": "markdown",
   "metadata": {},
   "source": [
    "### T1-25. string slicing"
   ]
  },
  {
   "cell_type": "code",
   "execution_count": 43,
   "metadata": {},
   "outputs": [
    {
     "data": {
      "text/plain": [
       "0"
      ]
     },
     "execution_count": 43,
     "metadata": {},
     "output_type": "execute_result"
    }
   ],
   "source": [
    "import pandas as pd\n",
    "import numpy as np\n",
    "\n",
    "df = pd.read_csv('C:\\\\Users\\\\lsj02\\\\OneDrive\\\\바탕 화면\\\\PNU\\\\멘토링\\\\Study\\\\seojin\\\\bigdatacertificationkr\\\\basic1.csv')\n",
    "df[(df['f4'].str[:1] == 'E') & (df['city'] == '부산') & (df['age'] // 10 == 2)].count()['id']"
   ]
  },
  {
   "cell_type": "markdown",
   "metadata": {},
   "source": [
    "### T1-26. string contains"
   ]
  },
  {
   "cell_type": "code",
   "execution_count": 51,
   "metadata": {},
   "outputs": [
    {
     "data": {
      "text/plain": [
       "10"
      ]
     },
     "execution_count": 51,
     "metadata": {},
     "output_type": "execute_result"
    }
   ],
   "source": [
    "import pandas as pd\n",
    "import numpy as np\n",
    "\n",
    "df = pd.read_csv('C:\\\\Users\\\\lsj02\\\\OneDrive\\\\바탕 화면\\\\PNU\\\\멘토링\\\\Study\\\\seojin\\\\bigdatacertificationkr\\\\payment.csv')\n",
    "len(df[df['menu'].str.contains('라떼')])"
   ]
  }
 ],
 "metadata": {
  "kernelspec": {
   "display_name": "study",
   "language": "python",
   "name": "python3"
  },
  "language_info": {
   "codemirror_mode": {
    "name": "ipython",
    "version": 3
   },
   "file_extension": ".py",
   "mimetype": "text/x-python",
   "name": "python",
   "nbconvert_exporter": "python",
   "pygments_lexer": "ipython3",
   "version": "3.11.5"
  }
 },
 "nbformat": 4,
 "nbformat_minor": 2
}
