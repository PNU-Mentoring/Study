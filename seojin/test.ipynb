{
 "cells": [
  {
   "cell_type": "code",
   "execution_count": 28,
   "metadata": {},
   "outputs": [
    {
     "data": {
      "text/plain": [
       "70"
      ]
     },
     "execution_count": 28,
     "metadata": {},
     "output_type": "execute_result"
    }
   ],
   "source": [
    "import pandas as pd\n",
    "import sklearn\n",
    "\n",
    "# # dataframe 불러오기\n",
    "# data = pd.read_csv('C:\\\\Users\\\\lsj02\\\\OneDrive\\\\바탕 화면\\\\PNU\\\\멘토링\\\\Study\\\\basic1.csv')\n",
    "\n",
    "# data\n",
    "# #data['age'].mean()\n",
    "# #data.groupby(['f4']).count()['id']\n",
    "# #data.groupby(['city'])['age'].mean()\n",
    "\n",
    "# # 정렬\n",
    "# data = data.sort_values('age',ascending=False)\n",
    "# data\n",
    "\n",
    "titanic = pd.read_csv('C:\\\\Users\\\\lsj02\\\\OneDrive\\\\바탕 화면\\\\PNU\\\\멘토링\\\\Study\\\\seojin\\\\bigdatacertificationkr\\\\Titanic.csv')\n",
    "\n",
    "Q1 = titanic['Fare'].quantile(0.25)\n",
    "Q3 = titanic['Fare'].quantile(0.75)\n",
    "IQR = Q3 - Q1\n",
    "l = Q1 - 1.5 * IQR\n",
    "r = Q3 + 1.5 * IQR\n",
    "l, r\n",
    "\n",
    "outdata = titanic.loc[(titanic['Fare'] < l) | (titanic['Fare'] > r)]\n",
    "sum(outdata['Gender'] == 'female')\n"
   ]
  }
 ],
 "metadata": {
  "kernelspec": {
   "display_name": "study",
   "language": "python",
   "name": "python3"
  },
  "language_info": {
   "codemirror_mode": {
    "name": "ipython",
    "version": 3
   },
   "file_extension": ".py",
   "mimetype": "text/x-python",
   "name": "python",
   "nbconvert_exporter": "python",
   "pygments_lexer": "ipython3",
   "version": "3.11.5"
  }
 },
 "nbformat": 4,
 "nbformat_minor": 2
}
