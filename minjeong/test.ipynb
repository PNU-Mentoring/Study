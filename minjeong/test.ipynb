{
 "cells": [
  {
   "cell_type": "code",
   "execution_count": 5,
   "metadata": {},
   "outputs": [
    {
     "data": {
      "text/plain": [
       "f4\n",
       "ENFJ     6\n",
       "ENFP     6\n",
       "ENTJ     5\n",
       "ENTP     6\n",
       "ESFJ     5\n",
       "ESFP     4\n",
       "ESTJ     9\n",
       "ESTP    11\n",
       "INFJ     4\n",
       "INFP     6\n",
       "INTJ     4\n",
       "INTP     8\n",
       "ISFJ    10\n",
       "ISFP    10\n",
       "ISTJ     2\n",
       "ISTP     4\n",
       "dtype: int64"
      ]
     },
     "execution_count": 5,
     "metadata": {},
     "output_type": "execute_result"
    }
   ],
   "source": [
    "import pandas\n",
    "\n",
    "df=pandas.read_csv('C:\\\\Users\\\\kmo82\\\\Desktop\\\\Study\\\\basic1.csv')\n",
    "df.groupby('f4').size()"
   ]
  },
  {
   "cell_type": "code",
   "execution_count": 1,
   "metadata": {},
   "outputs": [],
   "source": [
    "import os\n",
    "os.environ['KAGGLE_USERNAME'] = 'minjeong1231'\n",
    "os.environ['KAGGLE_KEY'] = 'ec4d3ba2438d0246fa2d14c23040ff9b'"
   ]
  },
  {
   "cell_type": "code",
   "execution_count": 2,
   "metadata": {},
   "outputs": [
    {
     "name": "stdout",
     "output_type": "stream",
     "text": [
      "usage: kaggle [-h] [-v] [-W]\n",
      "              {competitions,c,datasets,d,kernels,k,models,m,files,f,config}\n",
      "              ...\n",
      "\n",
      "options:\n",
      "  -h, --help            show this help message and exit\n",
      "  -v, --version         Print the Kaggle API version\n",
      "  -W, --no-warn         Disable out-of-date API version warning\n",
      "\n",
      "commands:\n",
      "  {competitions,c,datasets,d,kernels,k,models,m,files,f,config}\n",
      "                        Use one of:\n",
      "                        competitions {list, files, download, submit, submissions, leaderboard}\n",
      "                        datasets {list, files, download, create, version, init, metadata, status}\n",
      "                        kernels {list, files, init, push, pull, output, status}\n",
      "                        models {instances, get, list, init, create, delete, update}\n",
      "                        models instances {versions, get, files, init, create, delete, update}\n",
      "                        models instances versions {init, create, download, delete, files}\n",
      "                        config {view, set, unset}\n",
      "    competitions (c)    Commands related to Kaggle competitions\n",
      "    datasets (d)        Commands related to Kaggle datasets\n",
      "    kernels (k)         Commands related to Kaggle kernels\n",
      "    models (m)          Commands related to Kaggle models\n",
      "    files (f)           Commands related files\n",
      "    config              Configuration settings\n"
     ]
    }
   ],
   "source": [
    "!kaggle -h"
   ]
  },
  {
   "cell_type": "code",
   "execution_count": 3,
   "metadata": {},
   "outputs": [
    {
     "name": "stdout",
     "output_type": "stream",
     "text": [
      "Dataset URL: https://www.kaggle.com/datasets/agileteam/bigdatacertificationkr\n",
      "License(s): Attribution-NoDerivatives 4.0 International (CC BY-ND 4.0)\n",
      "Downloading bigdatacertificationkr.zip to c:\\Users\\kmo82\\Desktop\\Study\\minjeong\n",
      "\n"
     ]
    },
    {
     "name": "stderr",
     "output_type": "stream",
     "text": [
      "\n",
      "  0%|          | 0.00/154k [00:00<?, ?B/s]\n",
      "100%|██████████| 154k/154k [00:00<00:00, 1.25MB/s]\n",
      "100%|██████████| 154k/154k [00:00<00:00, 1.16MB/s]\n"
     ]
    }
   ],
   "source": [
    "!kaggle datasets download -d agileteam/bigdatacertificationkr"
   ]
  },
  {
   "cell_type": "code",
   "execution_count": null,
   "metadata": {},
   "outputs": [],
   "source": []
  },
  {
   "cell_type": "code",
   "execution_count": null,
   "metadata": {},
   "outputs": [],
   "source": []
  }
 ],
 "metadata": {
  "kernelspec": {
   "display_name": "study",
   "language": "python",
   "name": "python3"
  },
  "language_info": {
   "codemirror_mode": {
    "name": "ipython",
    "version": 3
   },
   "file_extension": ".py",
   "mimetype": "text/x-python",
   "name": "python",
   "nbconvert_exporter": "python",
   "pygments_lexer": "ipython3",
   "version": "3.11.5"
  }
 },
 "nbformat": 4,
 "nbformat_minor": 2
}
