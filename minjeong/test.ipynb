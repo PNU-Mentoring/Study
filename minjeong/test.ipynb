{
 "cells": [
  {
   "cell_type": "code",
   "execution_count": 15,
   "metadata": {},
   "outputs": [
    {
     "data": {
      "text/plain": [
       "f4\n",
       "ENFJ     6\n",
       "ENFP     6\n",
       "ENTJ     5\n",
       "ENTP     6\n",
       "ESFJ     5\n",
       "ESFP     4\n",
       "ESTJ     9\n",
       "ESTP    11\n",
       "INFJ     4\n",
       "INFP     6\n",
       "INTJ     4\n",
       "INTP     8\n",
       "ISFJ    10\n",
       "ISFP    10\n",
       "ISTJ     2\n",
       "ISTP     4\n",
       "dtype: int64"
      ]
     },
     "execution_count": 15,
     "metadata": {},
     "output_type": "execute_result"
    }
   ],
   "source": [
    "import pandas\n",
    "\n",
    "df=pandas.read_csv('C:\\\\Users\\\\kmo82\\\\Desktop\\\\Study\\\\basic1.csv')\n",
    "df.groupby('f4').size()"
   ]
  },
  {
   "cell_type": "code",
   "execution_count": null,
   "metadata": {},
   "outputs": [],
   "source": []
  }
 ],
 "metadata": {
  "kernelspec": {
   "display_name": "study",
   "language": "python",
   "name": "python3"
  },
  "language_info": {
   "codemirror_mode": {
    "name": "ipython",
    "version": 3
   },
   "file_extension": ".py",
   "mimetype": "text/x-python",
   "name": "python",
   "nbconvert_exporter": "python",
   "pygments_lexer": "ipython3",
   "version": "3.11.5"
  }
 },
 "nbformat": 4,
 "nbformat_minor": 2
}
