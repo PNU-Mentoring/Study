{
 "cells": [
  {
   "cell_type": "markdown",
   "metadata": {},
   "source": [
    "# T1-1. 이상치를 찾아라(IQR활용) "
   ]
  },
  {
   "cell_type": "code",
   "execution_count": 1,
   "metadata": {},
   "outputs": [
    {
     "data": {
      "text/plain": [
       "70"
      ]
     },
     "execution_count": 1,
     "metadata": {},
     "output_type": "execute_result"
    }
   ],
   "source": [
    "#데이터에서 IQR을 활용해 Fare컬럼의 이상치를 찾고, 이상치 데이터의 여성 수를 구하시오\n",
    "import pandas as pd\n",
    "\n",
    "df=pd.read_csv('C:\\\\Users\\\\kmo82\\\\Desktop\\\\Study\\\\minjeong\\\\bigdatacertificationkr\\\\Titanic.csv')\n",
    "Q1= df['Fare'].quantile(.25)\n",
    "Q3= df['Fare'].quantile(.75)\n",
    "IQR= Q3-Q1\n",
    "outlier1=Q1-IQR*1.5\n",
    "outlier2=Q3+IQR*1.5\n",
    "df=df.loc[(df['Fare']<outlier1) | (df['Fare']>outlier2)]  #다중 조건 적용(&(and), |(or))\n",
    "sum(df['Gender']=='female')"
   ]
  },
  {
   "cell_type": "markdown",
   "metadata": {},
   "source": [
    "# T1-2. 이상치를 찾아라(소수점 나이)"
   ]
  },
  {
   "cell_type": "code",
   "execution_count": 2,
   "metadata": {},
   "outputs": [
    {
     "name": "stdout",
     "output_type": "stream",
     "text": [
      "69.5\n"
     ]
    }
   ],
   "source": [
    "#주어진 데이터에서 이상치(소수점 나이)를 찾고 올림, 내림, 버림(절사)했을때 3가지 모두 이상치 'age' 평균을 구한 다음 모두 더하여 출력하시오\n",
    "import pandas as pd\n",
    "import numpy as np\n",
    "\n",
    "df=pd.read_csv('C:\\\\Users\\\\kmo82\\\\Desktop\\\\Study\\\\minjeong\\\\bigdatacertificationkr\\\\basic1.csv')\n",
    "#print(df.head())\n",
    "df=df[df['age']-np.floor(df['age']) != 0] #소수점 데이터 찾기\n",
    "ceil_mean=np.ceil(df['age']).mean()\n",
    "floor_mean=np.floor(df['age']).mean()\n",
    "trunc_mean=np.trunc(df['age']).mean()\n",
    "ans=ceil_mean+floor_mean+trunc_mean\n",
    "print(ans)"
   ]
  },
  {
   "cell_type": "markdown",
   "metadata": {},
   "source": [
    "# T1-3. 결측치 처리(map 활용)"
   ]
  },
  {
   "cell_type": "code",
   "execution_count": 3,
   "metadata": {},
   "outputs": [
    {
     "name": "stdout",
     "output_type": "stream",
     "text": [
      "65.52\n"
     ]
    }
   ],
   "source": [
    "#주어진 데이터에서 결측치가 80%이상 되는 컬럼은(변수는) 삭제하고, 80% 미만인 결측치가 있는 컬럼은 'city'별 중앙값으로 값을 대체하고 'f1'컬럼의 평균값을 출력하세요!\n",
    "import pandas as pd\n",
    "import numpy as np\n",
    "\n",
    "df=pd.read_csv('C:\\\\Users\\\\kmo82\\\\Desktop\\\\Study\\\\minjeong\\\\bigdatacertificationkr\\\\basic1.csv')\n",
    "#print(df.head)\n",
    "df.isnull().sum() # EDA - 결측값 확인 (f1:31, f3: 95)\n",
    "\n",
    "# 80%이상 결측치 컬럼, 삭제\n",
    "df.shape #(100, 8)\n",
    "df.isnull().sum()/df.shape[0] # f1:31%, f3:95%\n",
    "df=df.drop(['f3'], axis=1) #axis=1 : column, axis=0 : index\n",
    "\n",
    "# 80%미만 결측치 컬럼, city별 중앙값으로 대체\n",
    "pd.unique(df['city']) #array(['서울', '부산', '대구', '경기'], dtype=object)\n",
    "seo=df[df['city']=='서울']\n",
    "seo=seo['f1'].median()\n",
    "bu=df[df['city']=='부산']\n",
    "bu=bu['f1'].median()\n",
    "dae=df[df['city']=='대구']\n",
    "dae=dae['f1'].median()\n",
    "gye=df[df['city']=='경기']\n",
    "gye=gye['f1'].median()\n",
    "\n",
    "df['f1']=df['f1'].fillna(df['city'].map({'서울':seo, '부산':bu, '대구':dae, '경기':gye})) #df.fillna(): 전체 column 결측치 대체\n",
    "\n",
    "# f1 평균값 결과 출력\n",
    "ans=df['f1'].mean()\n",
    "print(ans)"
   ]
  },
  {
   "cell_type": "markdown",
   "metadata": {},
   "source": [
    "# T1-4. 왜도와 첨도 구하기 (로그스케일)"
   ]
  },
  {
   "cell_type": "code",
   "execution_count": 3,
   "metadata": {},
   "outputs": [
    {
     "name": "stdout",
     "output_type": "stream",
     "text": [
      "Downloading house-prices-advanced-regression-techniques.zip to c:\\Users\\kmo82\\Desktop\\Study\\minjeong\n",
      "\n"
     ]
    },
    {
     "name": "stderr",
     "output_type": "stream",
     "text": [
      "\n",
      "  0%|          | 0.00/199k [00:00<?, ?B/s]\n",
      "100%|██████████| 199k/199k [00:00<00:00, 3.50MB/s]\n"
     ]
    }
   ],
   "source": [
    "!kaggle competitions download -c house-prices-advanced-regression-techniques"
   ]
  },
  {
   "cell_type": "code",
   "execution_count": 25,
   "metadata": {},
   "outputs": [
    {
     "name": "stdout",
     "output_type": "stream",
     "text": [
      "df_skew:1.8828757597682129, df_kurt:6.536281860064529\n",
      "log_skew:0.12134661989685333, log_kurt:0.809519155707878\n",
      "9.35\n"
     ]
    }
   ],
   "source": [
    "#주어진 데이터 중 train.csv에서 'SalePrice'컬럼의 왜도와 첨도를 구한 값과, 'SalePrice'컬럼을 스케일링(log1p)로 변환한 이후 왜도와 첨도를 구해 모두 더한 다음 소수점 2째자리까지 출력하시오\n",
    "import pandas as pd\n",
    "import numpy as np\n",
    "from matplotlib import pyplot as plt\n",
    "\n",
    "df=pd.read_csv('C:\\\\Users\\\\kmo82\\\\Desktop\\\\Study\\\\minjeong\\\\house-prices-advanced-regression-techniques\\\\train.csv')\n",
    "\n",
    "# 'SalePrice'컬럼 왜도와 첨도계산 \n",
    "df_skew=df['SalePrice'].skew()\n",
    "df_kurt=df['SalePrice'].kurt()\n",
    "print(f'df_skew:{df_skew}, df_kurt:{df_kurt}')\n",
    "#df['SalePrice'].hist() 시각화=> 왼쪽으로 몰려 있음\n",
    "\n",
    "# 'SalePrice'컬럼 로그변환\n",
    "df['SalePrice'] = np.log1p(df['SalePrice']) #np.log()하면 데이터에 0이 있을 경우 -무한 값이 나옴.\n",
    "#df['SalePrice'].hist()\n",
    "\n",
    "log_skew=df['SalePrice'].skew()\n",
    "log_kurt=df['SalePrice'].kurt()\n",
    "print(f'log_skew:{log_skew}, log_kurt:{log_kurt}')\n",
    "\n",
    "ans=round(df_skew+df_kurt+log_skew+log_kurt, 2)\n",
    "print(ans)"
   ]
  },
  {
   "cell_type": "markdown",
   "metadata": {},
   "source": [
    "## T1-5. 조건에 맞는 데이터 표준편차 구하기"
   ]
  },
  {
   "cell_type": "code",
   "execution_count": 9,
   "metadata": {},
   "outputs": [
    {
     "name": "stdout",
     "output_type": "stream",
     "text": [
      "5.859621525876811\n"
     ]
    }
   ],
   "source": [
    "#주어진 데이터 중 basic1.csv에서 'f4'컬럼 값이 'ENFJ'와 'INFP'인 'f1'의 표준편차 차이를 절대값으로 구하시오\n",
    "import pandas as pd\n",
    "import numpy as np\n",
    "\n",
    "df=pd.read_csv(\"C:\\\\Users\\\\kmo82\\\\Desktop\\\\Study\\\\minjeong\\\\bigdatacertificationkr\\\\basic1.csv\")\n",
    "df.head()\n",
    "ENFJ_std=df[df['f4']=='ENFJ']['f1'].std()\n",
    "INFP_std=df[df['f4']=='INFP']['f1'].std()\n",
    "ans=np.abs(ENFJ_std-INFP_std)\n",
    "print(ans)"
   ]
  },
  {
   "cell_type": "markdown",
   "metadata": {},
   "source": [
    "## T1-6. 결측치 제거 및 그룹 합계"
   ]
  },
  {
   "cell_type": "code",
   "execution_count": 30,
   "metadata": {},
   "outputs": [
    {
     "name": "stdout",
     "output_type": "stream",
     "text": [
      "833.0\n"
     ]
    }
   ],
   "source": [
    "#주어진 데이터 중 basic1.csv에서 'f1'컬럼 결측 데이터를 제거하고, 'city'와 'f2'을 기준으로 묶어 합계를 구하고, 'city가 경기이면서 f2가 0'인 조건에 만족하는 f1 값을 구하시오\n",
    "import pandas as pd\n",
    "import numpy as np\n",
    "\n",
    "df=pd.read_csv(\"C:\\\\Users\\\\kmo82\\\\Desktop\\\\Study\\\\minjeong\\\\bigdatacertificationkr\\\\basic1.csv\")\n",
    "df=df.dropna(subset=['f1']) #결측치 제거 dropna(), subset으로 특정 column 선택\n",
    "df=df.groupby(['city', 'f2']).sum() #city, f2별로 그룹화하여 합계 계산 ... 숫자형 데이터만 나오게 어떻게 하지..?\n",
    "ans=df.loc['경기', 0]['f1'] #대괄호 기준 잘 모르겠음\n",
    "print(ans)"
   ]
  },
  {
   "cell_type": "markdown",
   "metadata": {},
   "source": [
    "## T1-7. 값 변경 및 2개 이상의 조건"
   ]
  },
  {
   "cell_type": "code",
   "execution_count": 16,
   "metadata": {},
   "outputs": [
    {
     "name": "stdout",
     "output_type": "stream",
     "text": [
      "90.0\n"
     ]
    }
   ],
   "source": [
    "#'f4'컬럼의 값이 'ESFJ'인 데이터를 'ISFJ'로 대체하고, 'city'가 '경기'이면서 'f4'가 'ISFJ'인 데이터 중 'age'컬럼의 최대값을 출력하시오!\n",
    "import pandas as pd\n",
    "import numpy as  np\n",
    "\n",
    "df=pd.read_csv('C:\\\\Users\\\\kmo82\\\\Desktop\\\\Study\\\\minjeong\\\\bigdatacertificationkr\\\\basic1.csv')\n",
    "df[df['f4']=='ESFJ']\n",
    "df['f4']=df['f4'].replace('ESFJ', 'ISFJ') #값 변경\n",
    "ans=df[(df['f4']=='ISFJ') & (df['city']=='경기')]['age'].max()\n",
    "print(ans)"
   ]
  },
  {
   "cell_type": "code",
   "execution_count": null,
   "metadata": {},
   "outputs": [],
   "source": []
  }
 ],
 "metadata": {
  "kernelspec": {
   "display_name": "study",
   "language": "python",
   "name": "python3"
  },
  "language_info": {
   "codemirror_mode": {
    "name": "ipython",
    "version": 3
   },
   "file_extension": ".py",
   "mimetype": "text/x-python",
   "name": "python",
   "nbconvert_exporter": "python",
   "pygments_lexer": "ipython3",
   "version": "3.11.5"
  }
 },
 "nbformat": 4,
 "nbformat_minor": 2
}
